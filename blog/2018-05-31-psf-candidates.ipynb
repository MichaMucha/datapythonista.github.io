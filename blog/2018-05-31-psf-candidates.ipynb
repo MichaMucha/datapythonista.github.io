{
 "cells": [
  {
   "cell_type": "markdown",
   "metadata": {},
   "source": [
    "# PSF board of directors analysis\n",
    "\n",
    "In a vile attempt to bias the results of the current election for new directors for the Python Software Foundation, I'm sharing this analysis I made. My goal was to better understand the current board of directors, and how the new candidates can impact it.\n",
    "\n",
    "## Motivation\n",
    "\n",
    "As a Pythonista, the decisions made by the board of directors affect me. And while all candidates look great to me, I think it's key to have a board of directors as diverse as possible. The decisions of the BoD affect all us, and having only male candidates, candidates from the US, candidates working on the web site of Python... would make these decisions biased in an undesirable way.\n",
    "\n",
    "## Disclaimer\n",
    "\n",
    "I wish the information I wanted to analyze was available in an structured and reliable way, but it's not. The information used was mainly obtained from the [candidates wiki](https://wiki.python.org/moin/PythonSoftwareFoundation/BoardCandidates2018), and the directors and candidates Twitter and LinkedIn profiles. Meaning that information can be lacking or incorrect. If you find anything wrong, please contact [me](http://datapythonista.github.io) and I'll fix it.\n",
    "\n",
    "While there are 17 candidates to the PSF BoD, I just show the information of 16 here. I am the 17th candidate, and I wanted this analysis to be as fair as possible, and not a propaganda exercise. This being said, don't assume that removing myself from the analysis makes it unbiased. I analyse what is important for me (for example, I care a lot on who contributes to the Python projects code), and you may care about something different."
   ]
  },
  {
   "cell_type": "code",
   "execution_count": 1,
   "metadata": {},
   "outputs": [],
   "source": [
    "import pandas\n",
    "from matplotlib import pyplot\n",
    "directors = pandas.read_json('{\"Location\":{\"Naomi Ceder\":\"Chicago, IL\",\"Eric Holscher\":\"Portland, OR\",\"Jackie Kazil\":\"DC \\\\/ Bradenton FL\",\"Lorena Mesa\":\"Chicago, IL\",\"Thomas Wouters\":\"Amsterdam\",\"Kushal Das\":\"Kolkata, India\",\"Marlene Mhangami\":\"Zimbawe\",\"Van Lindberg\":\"San Antonio, TX\",\"Ewa Jodlowska\":\"Chicago, IL\"},\"Gender\":{\"Naomi Ceder\":\"Other\",\"Eric Holscher\":\"Man\",\"Jackie Kazil\":\"Woman\",\"Lorena Mesa\":\"Woman\",\"Thomas Wouters\":\"Man\",\"Kushal Das\":\"Man\",\"Marlene Mhangami\":\"Woman\",\"Van Lindberg\":\"Man\",\"Ewa Jodlowska\":\"Woman\"},\"Twitter\":{\"Naomi Ceder\":\"https:\\\\/\\\\/twitter.com\\\\/NaomiCeder\",\"Eric Holscher\":\"https:\\\\/\\\\/twitter.com\\\\/ericholscher\",\"Jackie Kazil\":\"https:\\\\/\\\\/twitter.com\\\\/JackieKazil\",\"Lorena Mesa\":\"https:\\\\/\\\\/twitter.com\\\\/loooorenanicole\",\"Thomas Wouters\":\"https:\\\\/\\\\/twitter.com\\\\/Yhg1s\",\"Kushal Das\":\"https:\\\\/\\\\/twitter.com\\\\/kushaldas\",\"Marlene Mhangami\":\"https:\\\\/\\\\/twitter.com\\\\/marlene_zw\",\"Van Lindberg\":\"https:\\\\/\\\\/twitter.com\\\\/VanL\",\"Ewa Jodlowska\":\"https:\\\\/\\\\/twitter.com\\\\/ewa_jodlowska\"},\"Area\":{\"Naomi Ceder\":null,\"Eric Holscher\":null,\"Jackie Kazil\":\"data\",\"Lorena Mesa\":\"web\",\"Thomas Wouters\":\"cpython\",\"Kushal Das\":\"cpython\",\"Marlene Mhangami\":null,\"Van Lindberg\":null,\"Ewa Jodlowska\":null}}')\n",
    "candidates = pandas.read_json('{\"Previous board member\":{\"Anna Ossowski\":\"Yes\",\"Cleopatra Douglas\":\"No\",\"Christopher Neugebauer\":\"No\",\"Katie McLaughlin\":\"No\",\"Younggun Kim\":\"Yes\",\"Paola Katherine Pacheco\":\"Yes\",\"Thea Flowers\":\"No\",\"Jeff Triplett\":\"No\",\"Jess Ingrassellino\":\"No\",\"Maricela (a.k.a Mayela) Sanchez Miranda\":\"No\",\"Nina Zakharenko\":\"No\",\"Mario Corchero\":\"No\",\"Sergey Sokolov\":\"No\",\"Lilly Ryan\":\"No\",\"Tania Sanchez\":\"No\",\"John Roa\":\"No\"},\"Location\":{\"Anna Ossowski\":\"Cologne, Germany\",\"Cleopatra Douglas\":\"Sierra Leone\",\"Christopher Neugebauer\":\"Petaluma, CA\",\"Katie McLaughlin\":\"Sidney, Australia\",\"Younggun Kim\":\"Korea\",\"Paola Katherine Pacheco\":\"Mendoza, Argentina\",\"Thea Flowers\":\"Seattle, WA\",\"Jeff Triplett\":\"Lawrence, KS\",\"Jess Ingrassellino\":\"NYC\",\"Maricela (a.k.a Mayela) Sanchez Miranda\":\"Mexico\",\"Nina Zakharenko\":\"Portland, OR\",\"Mario Corchero\":\"London, UK\",\"Sergey Sokolov\":\"St Petersburg, Russia\",\"Lilly Ryan\":\"Melbourne, Australia\",\"Tania Sanchez\":\"Leeds, UK\",\"John Roa\":\"NYC\"},\"Gender\":{\"Anna Ossowski\":\"Woman\",\"Cleopatra Douglas\":\"Woman\",\"Christopher Neugebauer\":\"Man\",\"Katie McLaughlin\":\"Woman\",\"Younggun Kim\":\"Man\",\"Paola Katherine Pacheco\":\"Woman\",\"Thea Flowers\":\"Woman\",\"Jeff Triplett\":\"Man\",\"Jess Ingrassellino\":\"Woman\",\"Maricela (a.k.a Mayela) Sanchez Miranda\":\"Woman\",\"Nina Zakharenko\":\"Woman\",\"Mario Corchero\":\"Man\",\"Sergey Sokolov\":\"Man\",\"Lilly Ryan\":\"Woman\",\"Tania Sanchez\":\"Woman\",\"John Roa\":\"Man\"},\"Twitter\":{\"Anna Ossowski\":\"https:\\\\/\\\\/twitter.com\\\\/ossanna16\",\"Cleopatra Douglas\":\"https:\\\\/\\\\/twitter.com\\\\/succedor23\",\"Christopher Neugebauer\":\"https:\\\\/\\\\/twitter.com\\\\/chrisjrn\",\"Katie McLaughlin\":\"https:\\\\/\\\\/twitter.com\\\\/glasnt\",\"Younggun Kim\":\"https:\\\\/\\\\/twitter.com\\\\/scari_net\",\"Paola Katherine Pacheco\":\"https:\\\\/\\\\/twitter.com\\\\/pk_pacheco\",\"Thea Flowers\":\"https:\\\\/\\\\/twitter.com\\\\/theavalkyrie\",\"Jeff Triplett\":\"https:\\\\/\\\\/twitter.com\\\\/webology\",\"Jess Ingrassellino\":\"https:\\\\/\\\\/twitter.com\\\\/jess_ingrass\",\"Maricela (a.k.a Mayela) Sanchez Miranda\":\"https:\\\\/\\\\/twitter.com\\\\/mayela0x14\",\"Nina Zakharenko\":\"https:\\\\/\\\\/twitter.com\\\\/nnja\",\"Mario Corchero\":\"https:\\\\/\\\\/twitter.com\\\\/mariocj89\",\"Sergey Sokolov\":null,\"Lilly Ryan\":\"https:\\\\/\\\\/twitter.com\\\\/attacus_au\",\"Tania Sanchez\":\"https:\\\\/\\\\/twitter.com\\\\/ixek\",\"John Roa\":\"https:\\\\/\\\\/twitter.com\\\\/jhonjairoroa87\"},\"Conference \\\\/ meetup organiser\":{\"Anna Ossowski\":\"Yes\",\"Cleopatra Douglas\":\"Yes\",\"Christopher Neugebauer\":\"Yes\",\"Katie McLaughlin\":\"Yes\",\"Younggun Kim\":\"Yes\",\"Paola Katherine Pacheco\":\"Yes\",\"Thea Flowers\":\"No\",\"Jeff Triplett\":\"Yes\",\"Jess Ingrassellino\":\"Yes\",\"Maricela (a.k.a Mayela) Sanchez Miranda\":\"Yes\",\"Nina Zakharenko\":\"Yes\",\"Mario Corchero\":\"Yes\",\"Sergey Sokolov\":\"Yes\",\"Lilly Ryan\":\"Yes\",\"Tania Sanchez\":\"Yes\",\"John Roa\":\"Yes\"},\"WG member\":{\"Anna Ossowski\":\"Grants\",\"Cleopatra Douglas\":\"-\",\"Christopher Neugebauer\":\"Grants\",\"Katie McLaughlin\":\"-\",\"Younggun Kim\":\"Grants\",\"Paola Katherine Pacheco\":\"-\",\"Thea Flowers\":\"-\",\"Jeff Triplett\":null,\"Jess Ingrassellino\":\"-\",\"Maricela (a.k.a Mayela) Sanchez Miranda\":null,\"Nina Zakharenko\":null,\"Mario Corchero\":null,\"Sergey Sokolov\":null,\"Lilly Ryan\":null,\"Tania Sanchez\":null,\"John Roa\":null},\"Area\":{\"Anna Ossowski\":\"web\",\"Cleopatra Douglas\":\"web\",\"Christopher Neugebauer\":null,\"Katie McLaughlin\":\"web\",\"Younggun Kim\":\"data\",\"Paola Katherine Pacheco\":\"data\",\"Thea Flowers\":null,\"Jeff Triplett\":\"web\",\"Jess Ingrassellino\":null,\"Maricela (a.k.a Mayela) Sanchez Miranda\":\"web\",\"Nina Zakharenko\":\"web\",\"Mario Corchero\":\"cpython\",\"Sergey Sokolov\":\"web\",\"Lilly Ryan\":null,\"Tania Sanchez\":\"data\",\"John Roa\":\"web\"}}')"
   ]
  },
  {
   "cell_type": "markdown",
   "metadata": {},
   "source": [
    "## Gender\n",
    "\n",
    "I think the Python community did a great effort in terms of gender diversity. We surely need to continue the efforts to make sure conferences and user groups are more diverse, but at the BoD levels things seem as good as they can be. Ideally we want to get two female and two male directors elected, given that to the best of my knowledge, we do not have non-binary candidates this time."
   ]
  },
  {
   "cell_type": "code",
   "execution_count": 2,
   "metadata": {},
   "outputs": [
    {
     "data": {
      "image/png": "[encoded data removed]",
      "text/plain": [
       "<Figure size 432x288 with 2 Axes>"
      ]
     },
     "metadata": {},
     "output_type": "display_data"
    }
   ],
   "source": [
    "fig = pyplot.figure()\n",
    "pyplot.subplot(121)\n",
    "directors.groupby('Gender').size().plot(kind='bar')\n",
    "pyplot.title('Continuing directors')\n",
    "pyplot.subplot(122)\n",
    "candidates.groupby('Gender').size().plot(kind='bar')\n",
    "pyplot.title('Candidates');"
   ]
  },
  {
   "cell_type": "markdown",
   "metadata": {},
   "source": [
    "## Python areas\n",
    "\n",
    "It's difficult to cluster people in the different Python areas. Or to define which are the areas themselves. But at the same time, it wouldn't be nice to have the whole Python community represented by directors that never work with Django, or with the PyData stack. My approximation has been to divide the directors and candidates between the ones more focused on web, on data or on the language itself, and consider the rest neutral.\n",
    "\n",
    "From the plots below, seems like all areas are represented, but personally I don't think it'd harm to have more representation from the web and data world."
   ]
  },
  {
   "cell_type": "code",
   "execution_count": 3,
   "metadata": {},
   "outputs": [
    {
     "data": {
      "image/png": "[encoded data removed]",
      "text/plain": [
       "<Figure size 432x288 with 2 Axes>"
      ]
     },
     "metadata": {},
     "output_type": "display_data"
    }
   ],
   "source": [
    "fig = pyplot.figure()\n",
    "pyplot.subplot(121)\n",
    "directors.groupby('Area').size().plot(kind='bar')\n",
    "pyplot.title('Continuing directors')\n",
    "pyplot.subplot(122)\n",
    "candidates.groupby('Area').size().plot(kind='bar')\n",
    "pyplot.title('Candidates');"
   ]
  },
  {
   "cell_type": "markdown",
   "metadata": {},
   "source": [
    "## Geography\n",
    "\n",
    "In the below map, I show in blue the location of the current directors (who don't need to be re-elected), and in purple the new candidates.\n",
    "\n",
    "I think the current BoD is very American (as American from the USA), which in my opinion is not a positive thing. While there are great candidates from the US, I think it'd be great if most of the new directors are based in other regions of the world, and we make the PSF BoD more international.\n",
    "\n",
    "The interactive version of this map, with the names of the directors and candidates is available [here](https://drive.google.com/open?id=18GgOccJLvjoKm_4LOkBPv6OUIiXh4fdN&usp=sharing).\n",
    "\n",
    "![](img/director_locations.png)"
   ]
  },
  {
   "cell_type": "markdown",
   "metadata": {},
   "source": [
    "## Community involvement\n",
    "\n",
    "For what it's said in the wiki, seems obvious that almost all candidates are very involved in the community. In some cases in organizing conferences, in some others organizing local user groups. Personally, I don't see it as a very discriminative feature.\n",
    "\n",
    "There are 3 candidates (as far as I know) who participate of working groups of the PSF (all them in the grants WG): Anna Ossowski, Christopher Neugebauer and Younggun Kim."
   ]
  },
  {
   "cell_type": "markdown",
   "metadata": {},
   "source": [
    "## Community values\n",
    "\n",
    "Most of the candidates discuss in the wiki the importance of the community values like diversity. Some mention their achievements, some their goals as directors. I think it's a really great achievement, and while some emphasize more than others, it's difficult to measure is someone is better in terms of enforcing these values."
   ]
  },
  {
   "cell_type": "markdown",
   "metadata": {},
   "source": [
    "## Previous experience\n",
    "\n",
    "There are 3 candidates that already served in the PSF board, Paola Katherine Pacheco (current director), Younggun Kim and Anna Ossowski).\n",
    "\n",
    "Katie McLaughlin is currently serving as a director of the Django Software Foundation."
   ]
  },
  {
   "cell_type": "markdown",
   "metadata": {},
   "source": [
    "## Open source experience\n",
    "\n",
    "As mentioned before, this is one of the most relevant areas for me. Meaning that I'm really biased towards people who makes the software that we all use. Most of the candidates didn't mentioned their contributions (if any) or shared their GitHub links. The ones who shared it are: Thea Flowers (packaging.python.org and urllib3 maintainer among others), Nina Zakharenko, Mario Corchero (several contributions to CPython and python.org) and Tania Sanchez. Even if it's not in the wiki, I know Younggun Kim contributes to pandas (and other smaller projects like Folium). And Anna Ossowski is contributing to the Django REST framework.\n",
    "\n",
    "For what I saw many candidates contributed to user groups and conference website, and small/personal projects."
   ]
  },
  {
   "cell_type": "markdown",
   "metadata": {},
   "source": [
    "## Conclusion\n",
    "\n",
    "While all the candidates look great to me (exactly the opposite as in the elections to any country government), I have some preferences for what I just described. Being my favourite candidates:\n",
    "\n",
    "- Katie McLaughlin\n",
    "- Mario Corchero\n",
    "- Thea Flowers\n",
    "- Younggun Kim\n",
    "- Anna Ossowski"
   ]
  }
 ],
 "metadata": {
  "kernelspec": {
   "display_name": "Python 3",
   "language": "python",
   "name": "python3"
  },
  "language_info": {
   "codemirror_mode": {
    "name": "ipython",
    "version": 3
   },
   "file_extension": ".py",
   "mimetype": "text/x-python",
   "name": "python",
   "nbconvert_exporter": "python",
   "pygments_lexer": "ipython3",
   "version": "3.6.5"
  }
 },
 "nbformat": 4,
 "nbformat_minor": 2
}
