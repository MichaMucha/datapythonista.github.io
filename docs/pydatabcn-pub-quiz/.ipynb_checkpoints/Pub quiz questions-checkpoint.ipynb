{
 "cells": [
  {
   "cell_type": "markdown",
   "metadata": {
    "slideshow": {
     "slide_type": "slide"
    }
   },
   "source": [
    "<h1><center>Pub Quiz</center></h1>\n",
    "\n",
    "### Create your team ###\n",
    "* You can be from 3 to 5 people\n",
    "* Get a <span style=\"color: blue\">blue</span> and a <span style=\"color: red\">red</span> pen and a sheet of paper\n",
    "* Write at the top of the paper:\n",
    "    * Your team name\n",
    "    * The names of the members of your team"
   ]
  },
  {
   "cell_type": "markdown",
   "metadata": {
    "slideshow": {
     "slide_type": "slide"
    }
   },
   "source": [
    "# How it works? #\n",
    "\n",
    "\n",
    "## Questions ##\n",
    "\n",
    "* There will be 5 rounds\n",
    "* Each round has one question of each of the next categories:\n",
    "    1. What's the output of the script?\n",
    "        * **consider the latest version of CPython and libraries**\n",
    "    2. PyData community\n",
    "    3. Which library is it?\n",
    "    4. Monty Python\n",
    "    5. Python version\n",
    "    6. Barcelona\n",
    "* For each answer write:\n",
    "    * The round\n",
    "    * The question\n",
    "    * In the format R1Q1\n",
    "* <span style=\"color: red\">You <bold>can't</bold> check your phones, tablets, laptops... during the rounds</span>"
   ]
  },
  {
   "cell_type": "markdown",
   "metadata": {
    "slideshow": {
     "slide_type": "slide"
    }
   },
   "source": [
    "# How it works #\n",
    "\n",
    "## Answers ##\n",
    "\n",
    "* At the end of each round, we'll give the answers\n",
    "* Give your paper with the answers to the team next to you\n",
    "* Write in <span style=\"color: red\">red</span> the points:\n",
    "    * **0** for wrong answers\n",
    "    * **1** for right answers\n",
    "    * **3** for *exceptionally* good answers (we'll let you know)\n",
    "* At the end, add up all the answers, and report the total"
   ]
  },
  {
   "cell_type": "markdown",
   "metadata": {
    "slideshow": {
     "slide_type": "slide"
    }
   },
   "source": [
    "# Example #\n",
    "\n",
    "## R9Q9 - Which library is it? ##\n",
    "\n",
    "```python\n",
    "import who_am_i as wai\n",
    "\n",
    "\n",
    "df = wai.read_csv('some_clean_data.csv',\n",
    "                  parse_dates=True,\n",
    "                  index_col='id')\n",
    "df.describe()\n",
    "df['val'].plot()\n",
    "```\n",
    "\n",
    "### Write in your paper: ###\n",
    "\n",
    "* R1Q1: pandas\n",
    "\n",
    "### Points to other teams: ###\n",
    "\n",
    "* R1Q1: pandas <span style=\"color: red\">1</span>"
   ]
  },
  {
   "cell_type": "markdown",
   "metadata": {
    "slideshow": {
     "slide_type": "slide"
    }
   },
   "source": [
    "<h1><center>Round 1</center></h1>"
   ]
  },
  {
   "cell_type": "markdown",
   "metadata": {
    "slideshow": {
     "slide_type": "subslide"
    }
   },
   "source": [
    "<h1><center>R1Q1: What's the output?</center></h1>\n",
    "\n",
    "```python\n",
    ">>> first, *middle, last = range(10)\n",
    ">>> other = [last] * 8\n",
    ">>> sum(zip(middle, other), tuple())[::2]\n",
    "```"
   ]
  },
  {
   "cell_type": "markdown",
   "metadata": {
    "slideshow": {
     "slide_type": "subslide"
    }
   },
   "source": [
    "<h1><center>R1Q2: Community</center></h1>\n",
    "\n",
    "Who is the creator of Pandas, and author of the book *Python for Data Analysis*?\n",
    "\n",
    "![](python_for_data_analysis.jpg)"
   ]
  },
  {
   "cell_type": "markdown",
   "metadata": {
    "slideshow": {
     "slide_type": "subslide"
    }
   },
   "source": [
    "<h1><center>R1Q3: Which library is it?</center></h1>\n",
    "\n",
    "```python\n",
    ">>> import who_am_i as wai\n",
    ">>> import numpy as np\n",
    ">>>\n",
    ">>> t = np.arange(0.0, 2.0, 0.01)\n",
    ">>> s = 1 + np.sin(2 * np.pi * t)\n",
    ">>> wai.plot(t, s)\n",
    ">>> wai.xlabel('Some numbers')\n",
    ">>> wai.ylabel('Sine')\n",
    ">>> wai.title('Sine of some numbers')\n",
    ">>> wai.grid(True)\n",
    ">>> wai.show()\n",
    "```"
   ]
  },
  {
   "cell_type": "markdown",
   "metadata": {
    "slideshow": {
     "slide_type": "subslide"
    }
   },
   "source": [
    "<h1><center>R1Q4: Monty Python</center></h1>\n",
    "\n",
    "From which Monty Python movie is this frame?\n",
    "\n",
    "![](the_meaning_of_life_sex_education.jpg)"
   ]
  },
  {
   "cell_type": "markdown",
   "metadata": {
    "slideshow": {
     "slide_type": "subslide"
    }
   },
   "source": [
    "<h1><center>R1Q5: Python version</center></h1>\n",
    "\n",
    "Since which version of Python this is valid Python code?\n",
    "\n",
    "```python\n",
    ">>> earth_radius = 6_371\n",
    ">>> print(f'The radius of earth is {earth_radius}')\n",
    "```"
   ]
  },
  {
   "cell_type": "markdown",
   "metadata": {
    "slideshow": {
     "slide_type": "subslide"
    }
   },
   "source": [
    "<h1><center>R1Q6: Python Barcelona</center></h1>\n",
    "\n",
    "How many meetups, the Barcelona Python Meetup has held until today?\n",
    "\n",
    "![](pybcn_header.png)"
   ]
  },
  {
   "cell_type": "markdown",
   "metadata": {
    "slideshow": {
     "slide_type": "slide"
    }
   },
   "source": [
    "<h1><center>Round 1: Answers</center></h1>"
   ]
  },
  {
   "cell_type": "markdown",
   "metadata": {
    "slideshow": {
     "slide_type": "subslide"
    }
   },
   "source": [
    "<h1><center>R1Q1: What's the output?</center></h1>\n",
    "\n",
    "```python\n",
    ">>> first, *middle, last = range(10)\n",
    ">>> other = [2] * 8\n",
    ">>> sum(zip(middle, other), tuple())[::2]\n",
    "```\n",
    "\n",
    "<h3><center>(1, 2, 3, 4, 5, 6, 7, 8) &rarr; <span style=\"color: red\">3</span></center></h3>\n",
    "<h4><center>[1, 2, 3, 4, 5, 6, 7, 8] &rarr; <span style=\"color: red\">1</span></center></h4>"
   ]
  },
  {
   "cell_type": "markdown",
   "metadata": {
    "slideshow": {
     "slide_type": "subslide"
    }
   },
   "source": [
    "<h1><center>R1Q1: What's the output?</center></h1>\n",
    "\n",
    "```python\n",
    ">>> first, *middle, last = range(10)\n",
    ">>> first\n",
    "0\n",
    ">>> middle\n",
    "[1, 2, 3, 4, 5, 6, 7, 8]\n",
    ">>> last\n",
    "9\n",
    "\n",
    ">>> other = [last] * 8\n",
    ">>> other\n",
    "[9, 9, 9, 9, 9, 9, 9, 9]\n",
    "\n",
    ">>> zip_val = list(zip(middle, other))\n",
    ">>> zip_val\n",
    "[(1, 9), (2, 9), (3, 9), (4, 9), (5, 9), (6, 9), (7, 9), (8, 9)]\n",
    "\n",
    ">>> sum_val = sum(zip_val, tuple())\n",
    ">>> sum_val\n",
    "(1, 9, 2, 9, 3, 9, 4, 9, 5, 9, 6, 9, 7, 9, 8, 9)\n",
    "\n",
    ">>> sum_val[::2]\n",
    "(1, 2, 3, 4, 5, 6, 7, 8)\n",
    "\n",
    ">>> sum(zip(middle, other), tuple())[::2]\n",
    "(1, 2, 3, 4, 5, 6, 7, 8)\n",
    "```"
   ]
  },
  {
   "cell_type": "markdown",
   "metadata": {
    "slideshow": {
     "slide_type": "subslide"
    }
   },
   "source": [
    "<h1><center>R1Q2: Community</center></h1>\n",
    "\n",
    "Who is the creator of Pandas, and author of the book *Python for Data Analysis*?\n",
    "\n",
    "<h3><center>Wes McKinney &rarr; <span style=\"color: red\">3</span></center></h3>\n",
    "<h4><center>With wrong spelling &rarr; <span style=\"color: red\">1</span></center></h4>\n",
    "\n",
    "![](wes_mckinney.jpg)"
   ]
  },
  {
   "cell_type": "markdown",
   "metadata": {
    "slideshow": {
     "slide_type": "subslide"
    }
   },
   "source": [
    "<h1><center>R1Q3: Which library is it?</center></h1>\n",
    "\n",
    "```python\n",
    ">>> import who_am_i as wai\n",
    ">>> import numpy as np\n",
    ">>>\n",
    ">>> t = np.arange(0.0, 2.0, 0.01)\n",
    ">>> s = 1 + np.sin(2 * np.pi * t)\n",
    ">>> wai.plot(t, s)\n",
    ">>> wai.xlabel('Some numbers')\n",
    ">>> wai.ylabel('Sine')\n",
    ">>> wai.title('Sine of some numbers')\n",
    ">>> wai.grid(True)\n",
    ">>> wai.show()\n",
    "```\n",
    "\n",
    "<h3><center>matplotlib.pyplot &rarr; <span style=\"color: red\">3</span></center></h3>\n",
    "<h4><center>matplotlib &rarr; <span style=\"color: red\">1</span></center></h4>"
   ]
  },
  {
   "cell_type": "markdown",
   "metadata": {
    "slideshow": {
     "slide_type": "subslide"
    }
   },
   "source": [
    "<h1><center>R1Q3: Which library is it?</center></h1>\n",
    "\n",
    "```python\n",
    ">>> import matplotlib.pyplot as plt\n",
    ">>> import numpy as np\n",
    ">>>\n",
    ">>> t = np.arange(0.0, 2.0, 0.01)\n",
    ">>> s = 1 + np.sin(2 * np.pi * t)\n",
    ">>> plt.plot(t, s)\n",
    ">>> plt.xlabel('Some numbers')\n",
    ">>> plt.ylabel('Sine')\n",
    ">>> plt.title('Sine of some numbers')\n",
    ">>> plt.grid(True)\n",
    ">>> plt.show()\n",
    "```\n",
    "![](sine.png)"
   ]
  },
  {
   "cell_type": "markdown",
   "metadata": {
    "slideshow": {
     "slide_type": "subslide"
    }
   },
   "source": [
    "<h1><center>R1Q4: Monty Python</center></h1>\n",
    "\n",
    "From which Monty Python movie is this frame?\n",
    "\n",
    "<h3><center>The meaning of life &rarr; <span style=\"color: red\">3</span></center></h3>\n",
    "<h4><center>El sentido de la vida / El sentit de la vida &rarr; <span style=\"color: red\">3</span></center></h4>\n",
    "\n",
    "![](the_meaning_of_life_cover.jpg)"
   ]
  },
  {
   "cell_type": "markdown",
   "metadata": {
    "slideshow": {
     "slide_type": "subslide"
    }
   },
   "source": [
    "<h1><center>R1Q5: Python version</center></h1>\n",
    "\n",
    "Since which version of Python this is valid Python code?\n",
    "\n",
    "```python\n",
    ">>> earth_radius = 6_371\n",
    ">>> print(f'The radius of earth is {earth_radius}')\n",
    "```\n",
    "\n",
    "<h3><center>CPython 3.6 &rarr; <span style=\"color: red\">3</span></center></h3>\n",
    "\n",
    "Returns 'The radius of earth is 6371' in Python 3.6, and SyntaxError in all previous version, because of the underscore in the number literal, and the f-string.\n",
    "\n",
    "<iframe style=\"width: 100%; border: none\" src=\"https://docs.python.org/3/whatsnew/3.6.html\"></iframe>"
   ]
  },
  {
   "cell_type": "markdown",
   "metadata": {
    "slideshow": {
     "slide_type": "subslide"
    }
   },
   "source": [
    "<h1><center>R1Q6: Python Barcelona</center></h1>\n",
    "\n",
    "How many meetups, the Barcelona Python Meetup has held until today?\n",
    "\n",
    "<h3><center>Exactly 100 &rarr; <span style=\"color: red\">3</span></center></h3>\n",
    "<h4><center>Between 80 and 120 &rarr; <span style=\"color: red\">1</span></center></h4>\n",
    "\n",
    "![](pybcn_side.png)"
   ]
  },
  {
   "cell_type": "code",
   "execution_count": 7,
   "metadata": {},
   "outputs": [
    {
     "ename": "TypeError",
     "evalue": "'itertools.accumulate' object is not subscriptable",
     "output_type": "error",
     "traceback": [
      "\u001b[0;31m---------------------------------------------------------------------------\u001b[0m",
      "\u001b[0;31mTypeError\u001b[0m                                 Traceback (most recent call last)",
      "\u001b[0;32m<ipython-input-7-76cc035203d4>\u001b[0m in \u001b[0;36m<module>\u001b[0;34m()\u001b[0m\n\u001b[1;32m      6\u001b[0m \u001b[0mweights\u001b[0m \u001b[0;34m=\u001b[0m \u001b[0;34m[\u001b[0m\u001b[0;36m.33\u001b[0m\u001b[0;34m,\u001b[0m \u001b[0;36m.33\u001b[0m\u001b[0;34m,\u001b[0m \u001b[0;36m99.\u001b[0m\u001b[0;34m,\u001b[0m \u001b[0;36m.34\u001b[0m\u001b[0;34m]\u001b[0m\u001b[0;34m\u001b[0m\u001b[0m\n\u001b[1;32m      7\u001b[0m \u001b[0mcum_weights\u001b[0m \u001b[0;34m=\u001b[0m \u001b[0mitertools\u001b[0m\u001b[0;34m.\u001b[0m\u001b[0maccumulate\u001b[0m\u001b[0;34m(\u001b[0m\u001b[0mweights\u001b[0m\u001b[0;34m)\u001b[0m\u001b[0;34m\u001b[0m\u001b[0m\n\u001b[0;32m----> 8\u001b[0;31m \u001b[0mcandidates\u001b[0m\u001b[0;34m[\u001b[0m\u001b[0mbisect\u001b[0m\u001b[0;34m.\u001b[0m\u001b[0mbisect\u001b[0m\u001b[0;34m(\u001b[0m\u001b[0mcum_weights\u001b[0m\u001b[0;34m,\u001b[0m \u001b[0mrandom\u001b[0m\u001b[0;34m.\u001b[0m\u001b[0mrandom\u001b[0m\u001b[0;34m(\u001b[0m\u001b[0;34m)\u001b[0m \u001b[0;34m*\u001b[0m \u001b[0mcum_weights\u001b[0m\u001b[0;34m[\u001b[0m\u001b[0;34m-\u001b[0m\u001b[0;36m1\u001b[0m\u001b[0;34m]\u001b[0m\u001b[0;34m)\u001b[0m\u001b[0;34m]\u001b[0m\u001b[0;34m\u001b[0m\u001b[0m\n\u001b[0m",
      "\u001b[0;31mTypeError\u001b[0m: 'itertools.accumulate' object is not subscriptable"
     ]
    }
   ],
   "source": [
    "import itertools\n",
    "import random\n",
    "import bisect\n",
    "\n",
    "candidates = [0, 99, 666, 22]\n",
    "weights = [.33, .33, 99., .34]\n",
    "cum_weights = itertools.accumulate(weights)\n",
    "candidates[bisect.bisect(cum_weights, random.random() * cum_weights[-1])]"
   ]
  },
  {
   "cell_type": "markdown",
   "metadata": {
    "slideshow": {
     "slide_type": "slide"
    }
   },
   "source": [
    "<h1><center>Round 2</center></h1>"
   ]
  },
  {
   "cell_type": "markdown",
   "metadata": {
    "slideshow": {
     "slide_type": "subslide"
    }
   },
   "source": [
    "<h1><center>R2Q1: What's the output?</center></h1>\n",
    "\n",
    "```python\n",
    ">>> import itertools\n",
    ">>> import random\n",
    ">>> import bisect\n",
    ">>> \n",
    ">>> candidates = [0, 99, 666, 22]\n",
    ">>> weights = [.33, .33, 99., .34]\n",
    ">>> cum_weights = itertools.accumulate(weights)\n",
    ">>> candidates[bisect.bisect(cum_weights, random.random() * cum_weights[-1])]\n",
    "```"
   ]
  },
  {
   "cell_type": "markdown",
   "metadata": {
    "slideshow": {
     "slide_type": "subslide"
    }
   },
   "source": [
    "<h1><center>R2Q2: Community</center></h1>\n",
    "\n",
    "Which of these projects is **not** a NumFOCUS fiscally sponsored project?\n",
    "\n",
    "![](numfocus_projects.png)"
   ]
  },
  {
   "cell_type": "markdown",
   "metadata": {
    "slideshow": {
     "slide_type": "subslide"
    }
   },
   "source": [
    "<h1><center>R2Q3: Which library is it?</center></h1>\n",
    "\n",
    "```python\n",
    ">>> import who_am_i as wai\n",
    ">>> import numpy as np\n",
    ">>> from sklearn.pipeline import make_pipeline\n",
    ">>> from sklearn.dummy import DummyClassifier\n",
    ">>>\n",
    ">>> X = np.array([[ 1., -1.,      2.],\n",
    "...               [ 2.,  np.nan,  0.],\n",
    "...               [ 0.,  1.,     -1.]])\n",
    ">>> y = np.array([0., 1., 0.])\n",
    ">>>\n",
    ">>> clf = make_pipeline(wai.Imputer(),\n",
    "...                     wai.StandardScaler(),\n",
    "...                     DummyClassifier())\n",
    ">>>\n",
    ">>> clf.fit(X, y)\n",
    ">>> clf.predict(np.array([[2., 0., -1.]]))\n",
    "```"
   ]
  },
  {
   "cell_type": "markdown",
   "metadata": {
    "slideshow": {
     "slide_type": "subslide"
    }
   },
   "source": [
    "<h1><center>R2Q4: Monty Python</center></h1>\n",
    "\n",
    "Which is the biggest enemy of the _People's Front of Judea_?\n",
    "\n",
    "![](peoples_front_of_judea.jpg)"
   ]
  },
  {
   "cell_type": "markdown",
   "metadata": {
    "slideshow": {
     "slide_type": "subslide"
    }
   },
   "source": [
    "<h1><center>R2Q5: Python version</center></h1>\n",
    "\n",
    "Which is the latest released version of Pandas?\n",
    "\n",
    "![](pandas.png)"
   ]
  },
  {
   "cell_type": "markdown",
   "metadata": {
    "slideshow": {
     "slide_type": "subslide"
    }
   },
   "source": [
    "<h1><center>R2Q6: Python Barcelona</center></h1>\n",
    "\n",
    "Who was the founder of the Barcelona Python Meetup?\n",
    "\n",
    "![](pybcn_origin.jpeg)"
   ]
  },
  {
   "cell_type": "markdown",
   "metadata": {
    "slideshow": {
     "slide_type": "slide"
    }
   },
   "source": [
    "<h1><center>Round 2: Answers</center></h1>"
   ]
  },
  {
   "cell_type": "markdown",
   "metadata": {
    "slideshow": {
     "slide_type": "subslide"
    }
   },
   "source": [
    "<h1><center>R2Q1: What's the output?</center></h1>\n",
    "\n",
    "```python\n",
    ">>> import itertools\n",
    ">>> import random\n",
    ">>> import bisect\n",
    ">>> \n",
    ">>> candidates = [0, 99, 666, 22]\n",
    ">>> weights = [.33, .33, 99., .34]\n",
    ">>> cum_weights = list(itertools.accumulate(weights))\n",
    ">>> cum_weights\n",
    "[0.33, 0.66, 99.66, 100.0]\n",
    ">>> random_number = random.random() * cum_weights[-1]\n",
    ">>> # uniformly distributed between 0 and 100\n",
    ">>> # 99% probability of being between 0.66 and 99.66\n",
    ">>> random_number\n",
    "58.95397201789591\n",
    ">>> index = bisect.bisect(cum_weights, random_number)\n",
    ">>> index\n",
    "2\n",
    ">>> candidates[index]\n",
    "666\n",
    "```"
   ]
  },
  {
   "cell_type": "markdown",
   "metadata": {
    "slideshow": {
     "slide_type": "subslide"
    }
   },
   "source": [
    "<h1><center>R2Q1: What's the output?</center></h1>\n",
    "\n",
    "```python\n",
    ">>> import itertools\n",
    ">>> import random\n",
    ">>> import bisect\n",
    ">>> \n",
    ">>> candidates = [0, 99, 666, 22]\n",
    ">>> weights = [.33, .33, 99., .34]\n",
    ">>> cum_weights = itertools.accumulate(weights)\n",
    ">>> candidates[bisect.bisect(cum_weights, random.random() * cum_weights[-1])]\n",
    "---------------------------------------------------------------------------\n",
    "TypeError                                 Traceback (most recent call last)\n",
    "<ipython-input-7-76cc035203d4> in <module>()\n",
    "      6 weights = [.33, .33, 99., .34]\n",
    "      7 cum_weights = itertools.accumulate(weights)\n",
    "----> 8 candidates[bisect.bisect(cum_weights, random.random() * cum_weights[-1])]\n",
    "\n",
    "TypeError: 'itertools.accumulate' object is not subscriptable\n",
    "```\n",
    "\n",
    "<h3><center>TypeError &rarr; <span style=\"color: red\">3</span></center></h3>\n",
    "<h4><center>666 with 99% probability &rarr; <span style=\"color: red\">1</span></center></h4>"
   ]
  },
  {
   "cell_type": "markdown",
   "metadata": {
    "slideshow": {
     "slide_type": "subslide"
    }
   },
   "source": [
    "<h1><center>R2Q2: Community</center></h1>\n",
    "\n",
    "Which of these projects is **not** a NumFOCUS fiscally sponsored project?\n",
    "\n",
    "![](numfocus_projects.png)"
   ]
  },
  {
   "cell_type": "markdown",
   "metadata": {
    "slideshow": {
     "slide_type": "subslide"
    }
   },
   "source": [
    "<h1><center>R2Q2: Community</center></h1>\n",
    "\n",
    "Which of these projects is **not** a NumFOCUS fiscally sponsored project?\n",
    "\n",
    "<h3><center>Gensim &rarr; <span style=\"color: red\">3</span></center></h3>\n",
    "\n",
    "![](numfocus_website.png)"
   ]
  },
  {
   "cell_type": "markdown",
   "metadata": {
    "slideshow": {
     "slide_type": "subslide"
    }
   },
   "source": [
    "<h1><center>R2Q3: Which library is it?</center></h1>\n",
    "\n",
    "```python\n",
    ">>> import who_am_i as wai\n",
    ">>> import numpy as np\n",
    ">>> from sklearn.pipeline import make_pipeline\n",
    ">>> from sklearn.dummy import DummyClassifier\n",
    ">>>\n",
    ">>> X = np.array([[ 1., -1.,      2.],\n",
    "...               [ 2.,  np.nan,  0.],\n",
    "...               [ 0.,  1.,     -1.]])\n",
    ">>> y = np.array([0., 1., 0.])\n",
    ">>>\n",
    ">>> clf = make_pipeline(wai.Imputer(),\n",
    "...                     wai.StandardScaler(),\n",
    "...                     DummyClassifier())\n",
    ">>>\n",
    ">>> clf.fit(X, y)\n",
    ">>> clf.predict(np.array([[2., 0., -1.]]))\n",
    "```\n",
    "\n",
    "<h3><center>sklearn.preprocessing &rarr; <span style=\"color: red\">1</span></center></h3>"
   ]
  },
  {
   "cell_type": "markdown",
   "metadata": {
    "slideshow": {
     "slide_type": "subslide"
    }
   },
   "source": [
    "<h1><center>R2Q3: Which library is it?</center></h1>\n",
    "\n",
    "```python\n",
    ">>> import sklearn.preprocessing\n",
    ">>> import numpy as np\n",
    ">>> from sklearn.pipeline import make_pipeline\n",
    ">>> from sklearn.dummy import DummyClassifier\n",
    ">>>\n",
    ">>> X = np.array([[ 1., -1.,      2.],\n",
    "...               [ 2.,  np.nan,  0.],\n",
    "...               [ 0.,  1.,     -1.]])\n",
    ">>> y = np.array([0., 1., 0.])\n",
    ">>>\n",
    ">>> clf = make_pipeline(sklearn.preprocessing.Imputer(),\n",
    "...                     sklearn.preprocessing.StandardScaler(),\n",
    "...                     DummyClassifier())\n",
    ">>>\n",
    ">>> clf.fit(X, y)\n",
    ">>> clf.predict(np.array([[2., 0., -1.]]))\n",
    "array([ 1.])\n",
    "```\n",
    "<h3><center>if you also knew the prediction is 1. &rarr; <span style=\"color: red\">3</span></center></h3>"
   ]
  },
  {
   "cell_type": "markdown",
   "metadata": {
    "slideshow": {
     "slide_type": "subslide"
    }
   },
   "source": [
    "<h1><center>R2Q4: Monty Python</center></h1>\n",
    "\n",
    "Which is the biggest enemy of the _People's Front of Judea_?\n",
    "\n",
    "<h3><center>The Judean People's Front &rarr; <span style=\"color: red\">3</span></center></h3>\n",
    "<h4><center>The Romans &rarr; <span style=\"color: red\">-1</span></center></h4>\n",
    "\n",
    "<iframe width=\"560\" height=\"315\" src=\"https://www.youtube.com/embed/a0BpfwazhUA\" frameborder=\"0\" allowfullscreen></iframe>"
   ]
  },
  {
   "cell_type": "markdown",
   "metadata": {
    "slideshow": {
     "slide_type": "subslide"
    }
   },
   "source": [
    "<h1><center>R2Q5: Python version</center></h1>\n",
    "\n",
    "Which is the latest released version of Pandas?\n",
    "\n",
    "<h3><center>pandas 0.20.1 &rarr; <span style=\"color: red\">3</span></center></h3>\n",
    "<h4><center>pandas 0.20 &rarr; <span style=\"color: red\">1</span></center></h4>\n",
    "\n",
    "![](pandas_020.png)"
   ]
  },
  {
   "cell_type": "markdown",
   "metadata": {
    "slideshow": {
     "slide_type": "subslide"
    }
   },
   "source": [
    "<h1><center>R1Q6: Python Barcelona</center></h1>\n",
    "\n",
    "Who was the founder of the Barcelona Python Meetup?\n",
    "\n",
    "<h3><center>Maik Röder &rarr; <span style=\"color: red\">5</span></center></h3>\n",
    "\n",
    "![](maik_roder.jpg)"
   ]
  },
  {
   "cell_type": "code",
   "execution_count": null,
   "metadata": {
    "collapsed": true
   },
   "outputs": [],
   "source": []
  }
 ],
 "metadata": {
  "celltoolbar": "Slideshow",
  "kernelspec": {
   "display_name": "Python 3",
   "language": "python",
   "name": "python3"
  },
  "language_info": {
   "codemirror_mode": {
    "name": "ipython",
    "version": 3
   },
   "file_extension": ".py",
   "mimetype": "text/x-python",
   "name": "python",
   "nbconvert_exporter": "python",
   "pygments_lexer": "ipython3",
   "version": "3.6.1"
  }
 },
 "nbformat": 4,
 "nbformat_minor": 1
}
