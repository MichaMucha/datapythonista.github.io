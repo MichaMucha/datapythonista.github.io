{
 "cells": [
  {
   "cell_type": "markdown",
   "metadata": {
    "slideshow": {
     "slide_type": "slide"
    }
   },
   "source": [
    "<h1><center>Pub Quiz</center></h1>\n",
    "\n",
    "### Create your team ###\n",
    "* You can be from 3 to 5 people\n",
    "* Get a <span style=\"color: blue\">blue</span> and a <span style=\"color: red\">red</span> pen and a sheet of paper\n",
    "* Write at the top of the paper:\n",
    "    * Your team name\n",
    "    * The names of the members of your team"
   ]
  },
  {
   "cell_type": "markdown",
   "metadata": {
    "slideshow": {
     "slide_type": "slide"
    }
   },
   "source": [
    "# How it works? #\n",
    "\n",
    "\n",
    "## Questions ##\n",
    "\n",
    "* There will be 2 rounds\n",
    "* Each round has one question of each of the next categories:\n",
    "    * What's the output of the script?\n",
    "    * PyData community\n",
    "    * Which library is it?\n",
    "    * Monty Python\n",
    "    * Versions\n",
    "    * Barcelona community\n",
    "    * Data science theory\n",
    "    * Performance\n",
    "    * Exceptions\n",
    "    * Data science celebrities\n",
    "* For each answer write:\n",
    "    * The round\n",
    "    * The question\n",
    "    * In the format R1Q1\n",
    "    \n",
    "    \n",
    "* consider the latest version of CPython and libraries\n",
    "* <span style=\"color: red\">You <bold>can't</bold> check your phones, tablets, laptops... during the rounds</span>"
   ]
  },
  {
   "cell_type": "markdown",
   "metadata": {
    "slideshow": {
     "slide_type": "slide"
    }
   },
   "source": [
    "# How it works #\n",
    "\n",
    "## Answers ##\n",
    "\n",
    "* At the end of each round, we'll give the answers\n",
    "* Give your paper with the answers to the team next to you\n",
    "* Write in <span style=\"color: red\">red</span> the points:\n",
    "    * **0** for wrong answers\n",
    "    * **1** for right answers\n",
    "    * **3** for *exceptionally* good answers (we'll let you know)\n",
    "* At the end, add up all the answers, and report the total"
   ]
  },
  {
   "cell_type": "markdown",
   "metadata": {
    "slideshow": {
     "slide_type": "slide"
    }
   },
   "source": [
    "# Example #\n",
    "\n",
    "## R9Q9 - Which library is it? ##\n",
    "\n",
    "```python\n",
    "import who_am_i as wai\n",
    "\n",
    "\n",
    "df = wai.read_csv('some_clean_data.csv',\n",
    "                  parse_dates=True,\n",
    "                  index_col='id')\n",
    "df.describe()\n",
    "df['val'].plot()\n",
    "```\n",
    "\n",
    "### Write in your paper: ###\n",
    "\n",
    "* R9Q9: pandas\n",
    "\n",
    "### Points to other teams: ###\n",
    "\n",
    "* R9Q9: pandas <span style=\"color: red\">1</span>"
   ]
  },
  {
   "cell_type": "markdown",
   "metadata": {
    "slideshow": {
     "slide_type": "slide"
    }
   },
   "source": [
    "<h1><center>Round 0</center></h1>"
   ]
  },
  {
   "cell_type": "markdown",
   "metadata": {
    "slideshow": {
     "slide_type": "subslide"
    }
   },
   "source": [
    "<h1><center>R0Q0: What's the output?</center></h1>\n",
    "\n",
    "```python\n",
    ">>> first, *middle, last = range(10)\n",
    ">>> other = [last] * 8\n",
    ">>> sum(zip(middle, other), tuple())[::2]\n",
    "```"
   ]
  },
  {
   "cell_type": "markdown",
   "metadata": {
    "slideshow": {
     "slide_type": "subslide"
    }
   },
   "source": [
    "<h1><center>R0Q1: PyData community</center></h1>\n",
    "\n",
    "Who is the creator of Pandas, and author of the book *Python for Data Analysis*?\n",
    "\n",
    "![](python_for_data_analysis.jpg)"
   ]
  },
  {
   "cell_type": "markdown",
   "metadata": {
    "slideshow": {
     "slide_type": "subslide"
    }
   },
   "source": [
    "<h1><center>R0Q2: Which library is it?</center></h1>\n",
    "\n",
    "```python\n",
    ">>> import who_am_i as wai\n",
    ">>> import numpy as np\n",
    ">>>\n",
    ">>> t = np.arange(0.0, 2.0, 0.01)\n",
    ">>> s = 1 + np.sin(2 * np.pi * t)\n",
    ">>> wai.plot(t, s)\n",
    ">>> wai.xlabel('Some numbers')\n",
    ">>> wai.ylabel('Sine')\n",
    ">>> wai.title('Sine of some numbers')\n",
    ">>> wai.grid(True)\n",
    ">>> wai.show()\n",
    "```"
   ]
  },
  {
   "cell_type": "markdown",
   "metadata": {
    "slideshow": {
     "slide_type": "subslide"
    }
   },
   "source": [
    "<h1><center>R0Q3: Monty Python</center></h1>\n",
    "\n",
    "From which Monty Python movie is this frame?\n",
    "\n",
    "![](holy_grail.jpg)"
   ]
  },
  {
   "cell_type": "markdown",
   "metadata": {
    "slideshow": {
     "slide_type": "subslide"
    }
   },
   "source": [
    "<h1><center>R0Q4: Versions</center></h1>\n",
    "\n",
    "Since which version of Python this is valid Python code?\n",
    "\n",
    "```python\n",
    ">>> earth_radius = 6_371\n",
    ">>> print(f'The radius of earth is {earth_radius}')\n",
    "```"
   ]
  },
  {
   "cell_type": "markdown",
   "metadata": {
    "slideshow": {
     "slide_type": "subslide"
    }
   },
   "source": [
    "<h1><center>R0Q5: Barcelona community</center></h1>\n",
    "\n",
    "How many meetups, the Barcelona Python Meetup has held until today?\n",
    "\n",
    "![](pybcn_header.png)"
   ]
  },
  {
   "cell_type": "markdown",
   "metadata": {
    "slideshow": {
     "slide_type": "subslide"
    }
   },
   "source": [
    "<h1><center>R0Q6: Data science theory</center></h1>\n",
    "\n",
    "In a ROC curve plot, what is the Y axis?\n",
    "\n",
    "![](roc_curve_unlabeled.png)"
   ]
  },
  {
   "cell_type": "markdown",
   "metadata": {
    "slideshow": {
     "slide_type": "subslide"
    }
   },
   "source": [
    "<h1><center>R0Q7: Performance</center></h1>\n",
    "\n",
    "Sort them from faster to slower:\n",
    "\n",
    "```python\n",
    ">>> import time\n",
    ">>> import random\n",
    ">>> import array\n",
    ">>> import numpy as np\n",
    ">>> import pandas as pd\n",
    ">>> \n",
    ">>> rand_list = [random.randint(0, 2 ** 32) for i in range(1_000_000)]\n",
    ">>> rand_tuple = tuple(rand_list)\n",
    ">>> rand_array = array.array('L', rand_list)\n",
    ">>> rand_numpy = np.array(rand_list, dtype=np.int32)\n",
    ">>> rand_pandas = pd.Series(rand_list)\n",
    ">>> \n",
    ">>> %timeit sum(rand_list)\n",
    ">>> %timeit sum(rand_tuple)\n",
    ">>> %timeit sum(rand_array)\n",
    ">>> %timeit rand_numpy.sum()\n",
    ">>> %timeit rand_pandas.sum()\n",
    "```"
   ]
  },
  {
   "cell_type": "markdown",
   "metadata": {
    "slideshow": {
     "slide_type": "subslide"
    }
   },
   "source": [
    "<h1><center>R0Q8: Celebrities</center></h1>\n",
    "\n",
    "* Born in NYC in 1928\n",
    "* Degree in physics from the California Institute of Technology, 1949\n",
    "* Ph.D. from University of California, Berkeley in 1954\n",
    "* Worked for UNESCO in Liberia as a statistician to find out how many students were in the country's schools\n",
    "* Member of the United States National Academy of Science\n",
    "* Professor emeritus of statistics at the UC Berkeley\n",
    "* Author of the 2001 paper _Statistical Modeling: the Two Cultures_\n",
    "* Coined the term _bagging_ to describe _bootstrap aggregation_\n",
    "* Awarded the SIGKDD Data Mining and Knowledge Discovery Innovation Award\n",
    "* His best known work is considered to be _Classification and Regression Trees_\n",
    "* Was the first to publish about _Random Forests_\n"
   ]
  },
  {
   "cell_type": "markdown",
   "metadata": {
    "slideshow": {
     "slide_type": "subslide"
    }
   },
   "source": [
    "<h1><center>R0Q9: Exceptions</center></h1>\n",
    "\n",
    "In which line this code raises an exception, and which is the exception (e.g. ValueError, TypeError...)?\n",
    "\n",
    "```python\n",
    "In[1]: foo = {True, False}\n",
    "\n",
    "In[2]: foo = {a: not a for a in foo}\n",
    "In[3]: bar = foo[0]\n",
    "\n",
    "In[4]: foo = {a: foo for a in foo}\n",
    "In[5]: bar = foo[0][0]\n",
    "\n",
    "In[6]: foo = {(a, b): foo for a in foo for b in foo}\n",
    "In[7]: bar = foo[0, 0][0][0]\n",
    "\n",
    "In[8]: foo = {(a, b): foo for a in foo.keys() for b in foo.keys()}\n",
    "In[9]: bar = foo[(0, 0), (0, 0)][0, 0][0][0]\n",
    "\n",
    "In[10]: foo = {(a, b): foo for a in foo.values() for b in foo.values()}\n",
    "In[11]: bar = foo[[0, 0], [0, 0]][0, 0][0][0]\n",
    "\n",
    "In[12]: foo = {(a, b): foo for a in foo.items() for b in foo.items()}\n",
    "In[13]: bar = foo[[0, 0, 0, 0]][0, 0][0][0]\n",
    "```"
   ]
  },
  {
   "cell_type": "markdown",
   "metadata": {
    "slideshow": {
     "slide_type": "slide"
    }
   },
   "source": [
    "<h1><center>Round 0: Answers</center></h1>"
   ]
  },
  {
   "cell_type": "markdown",
   "metadata": {
    "slideshow": {
     "slide_type": "subslide"
    }
   },
   "source": [
    "<h1><center>R0Q0: What's the output?</center></h1>\n",
    "\n",
    "```python\n",
    ">>> first, *middle, last = range(10)\n",
    ">>> other = [2] * 8\n",
    ">>> sum(zip(middle, other), tuple())[::2]\n",
    "```\n",
    "\n",
    "<h3><center>(1, 2, 3, 4, 5, 6, 7, 8) &rarr; <span style=\"color: red\">3</span></center></h3>\n",
    "<h4><center>[1, 2, 3, 4, 5, 6, 7, 8] &rarr; <span style=\"color: red\">1</span></center></h4>"
   ]
  },
  {
   "cell_type": "markdown",
   "metadata": {
    "slideshow": {
     "slide_type": "subslide"
    }
   },
   "source": [
    "<h1><center>R0Q0: What's the output?</center></h1>\n",
    "\n",
    "```python\n",
    ">>> first, *middle, last = range(10)\n",
    ">>> first\n",
    "0\n",
    ">>> middle\n",
    "[1, 2, 3, 4, 5, 6, 7, 8]\n",
    ">>> last\n",
    "9\n",
    "\n",
    ">>> other = [last] * 8\n",
    ">>> other\n",
    "[9, 9, 9, 9, 9, 9, 9, 9]\n",
    "\n",
    ">>> zip_val = list(zip(middle, other))\n",
    ">>> zip_val\n",
    "[(1, 9), (2, 9), (3, 9), (4, 9), (5, 9), (6, 9), (7, 9), (8, 9)]\n",
    "\n",
    ">>> sum_val = sum(zip_val, tuple())\n",
    ">>> sum_val\n",
    "(1, 9, 2, 9, 3, 9, 4, 9, 5, 9, 6, 9, 7, 9, 8, 9)\n",
    "\n",
    ">>> sum_val[::2]\n",
    "(1, 2, 3, 4, 5, 6, 7, 8)\n",
    "\n",
    ">>> sum(zip(middle, other), tuple())[::2]\n",
    "(1, 2, 3, 4, 5, 6, 7, 8)\n",
    "```"
   ]
  },
  {
   "cell_type": "markdown",
   "metadata": {
    "slideshow": {
     "slide_type": "subslide"
    }
   },
   "source": [
    "<h1><center>R0Q1: PyData community</center></h1>\n",
    "\n",
    "Who is the creator of Pandas, and author of the book *Python for Data Analysis*?\n",
    "\n",
    "<h3><center>Wes McKinney &rarr; <span style=\"color: red\">3</span></center></h3>\n",
    "<h4><center>With wrong spelling &rarr; <span style=\"color: red\">1</span></center></h4>\n",
    "\n",
    "![](wes_mckinney.jpg)"
   ]
  },
  {
   "cell_type": "markdown",
   "metadata": {
    "slideshow": {
     "slide_type": "subslide"
    }
   },
   "source": [
    "<h1><center>R0Q2: Which library is it?</center></h1>\n",
    "\n",
    "```python\n",
    ">>> import who_am_i as wai\n",
    ">>> import numpy as np\n",
    ">>>\n",
    ">>> t = np.arange(0.0, 2.0, 0.01)\n",
    ">>> s = 1 + np.sin(2 * np.pi * t)\n",
    ">>> wai.plot(t, s)\n",
    ">>> wai.xlabel('Some numbers')\n",
    ">>> wai.ylabel('Sine')\n",
    ">>> wai.title('Sine of some numbers')\n",
    ">>> wai.grid(True)\n",
    ">>> wai.show()\n",
    "```\n",
    "\n",
    "<h3><center>matplotlib.pyplot &rarr; <span style=\"color: red\">3</span></center></h3>\n",
    "<h4><center>matplotlib &rarr; <span style=\"color: red\">1</span></center></h4>"
   ]
  },
  {
   "cell_type": "markdown",
   "metadata": {
    "slideshow": {
     "slide_type": "subslide"
    }
   },
   "source": [
    "<h1><center>R0Q2: Which library is it?</center></h1>\n",
    "\n",
    "```python\n",
    ">>> import matplotlib.pyplot as plt\n",
    ">>> import numpy as np\n",
    ">>>\n",
    ">>> t = np.arange(0.0, 2.0, 0.01)\n",
    ">>> s = 1 + np.sin(2 * np.pi * t)\n",
    ">>> plt.plot(t, s)\n",
    ">>> plt.xlabel('Some numbers')\n",
    ">>> plt.ylabel('Sine')\n",
    ">>> plt.title('Sine of some numbers')\n",
    ">>> plt.grid(True)\n",
    ">>> plt.show()\n",
    "```\n",
    "![](sine.png)"
   ]
  },
  {
   "cell_type": "markdown",
   "metadata": {
    "slideshow": {
     "slide_type": "subslide"
    }
   },
   "source": [
    "<h1><center>R0Q3: Monty Python</center></h1>\n",
    "\n",
    "From which Monty Python movie is this frame?\n",
    "\n",
    "<h3><center>Monty Python and the Holy Grail &rarr; <span style=\"color: red\">3</span></center></h3>\n",
    "<h4><center>Los caballeros de la mesa cuadrada &rarr; <span style=\"color: red\">3</span></center></h4>\n",
    "\n",
    "<iframe width=\"560\" height=\"315\" src=\"https://www.youtube.com/embed/zKhEw7nD9C4\" frameborder=\"0\" allowfullscreen></iframe>"
   ]
  },
  {
   "cell_type": "markdown",
   "metadata": {
    "slideshow": {
     "slide_type": "subslide"
    }
   },
   "source": [
    "<h1><center>R0Q4: Versions</center></h1>\n",
    "\n",
    "Since which version of Python this is valid Python code?\n",
    "\n",
    "```python\n",
    ">>> earth_radius = 6_371\n",
    ">>> print(f'The radius of earth is {earth_radius}')\n",
    "```\n",
    "\n",
    "<h3><center>CPython 3.6 &rarr; <span style=\"color: red\">3</span></center></h3>\n",
    "\n",
    "Returns 'The radius of earth is 6371' in Python 3.6, and SyntaxError in all previous version, because of the underscore in the number literal, and the f-string.\n",
    "\n",
    "<iframe style=\"width: 100%; border: none\" src=\"https://docs.python.org/3/whatsnew/3.6.html\"></iframe>"
   ]
  },
  {
   "cell_type": "markdown",
   "metadata": {
    "slideshow": {
     "slide_type": "subslide"
    }
   },
   "source": [
    "<h1><center>R0Q5: Barcelona community</center></h1>\n",
    "\n",
    "How many meetups, the Barcelona Python Meetup has held until today?\n",
    "\n",
    "<h3><center>Exactly 100 &rarr; <span style=\"color: red\">3</span></center></h3>\n",
    "<h4><center>Between 80 and 120 &rarr; <span style=\"color: red\">1</span></center></h4>\n",
    "\n",
    "![](pybcn_side.png)"
   ]
  },
  {
   "cell_type": "markdown",
   "metadata": {
    "slideshow": {
     "slide_type": "subslide"
    }
   },
   "source": [
    "<h1><center>R0Q6: Data science theory</center></h1>\n",
    "\n",
    "In a ROC curve plot, what is the Y axis?\n",
    "\n",
    "<h3><center>True positive rate &rarr; <span style=\"color: red\">3</span></center></h3>\n",
    "<h3><center>Sensitivity &rarr; <span style=\"color: red\">3</span></center></h3>\n",
    "<h3><center>Recall &rarr; <span style=\"color: red\">3</span></center></h3>\n",
    "<h3><center>Probability of detection &rarr; <span style=\"color: red\">3</span></center></h3>\n",
    "\n",
    "<center>\n",
    "$\\frac{Correctly\\ predicted\\ true}{Total\\ true}$\n",
    "</center>"
   ]
  },
  {
   "cell_type": "markdown",
   "metadata": {
    "slideshow": {
     "slide_type": "subslide"
    }
   },
   "source": [
    "<h1><center>R0Q6: Data science theory</center></h1>\n",
    "\n",
    "![](roc_curve.png)"
   ]
  },
  {
   "cell_type": "markdown",
   "metadata": {
    "slideshow": {
     "slide_type": "subslide"
    }
   },
   "source": [
    "<h1><center>R0Q7: Performance</center></h1>\n",
    "\n",
    "Sort them from faster to slower:\n",
    "\n",
    "```python\n",
    ">>> import time\n",
    ">>> import random\n",
    ">>> import array\n",
    ">>> import numpy as np\n",
    ">>> import pandas as pd\n",
    ">>> \n",
    ">>> rand_list = [random.randint(0, 2 ** 32) for i in range(1_000_000)]\n",
    ">>> rand_tuple = tuple(rand_list)\n",
    ">>> rand_array = array.array('L', rand_list)\n",
    ">>> rand_numpy = np.array(rand_list, dtype=np.int32)\n",
    ">>> rand_pandas = pd.Series(rand_list)\n",
    ">>> \n",
    ">>> %timeit sum(rand_list)  # 18.8 ms ± 251 µs per loop (mean ± std. dev. of 7 runs, 10 loops each)\n",
    ">>> %timeit sum(rand_tuple)  # 18.4 ms ± 289 µs per loop (mean ± std. dev. of 7 runs, 10 loops each)\n",
    ">>> %timeit sum(rand_array)  # 46 ms ± 1.46 ms per loop (mean ± std. dev. of 7 runs, 10 loops each)\n",
    ">>> %timeit rand_numpy.sum()  # 1.1 ms ± 13.7 µs per loop (mean ± std. dev. of 7 runs, 1000 loops each)\n",
    ">>> %timeit rand_pandas.sum()  # 1.37 ms ± 3.8 µs per loop (mean ± std. dev. of 7 runs, 1000 loops each)\n",
    "```\n",
    "\n",
    "\n",
    "<h3><center>numpy, pandas, tuple, list, array &rarr; <span style=\"color: red\">3</span></center></h3>\n",
    "<h3><center>If numpy was first &rarr; <span style=\"color: red\">1</span></center></h3>"
   ]
  },
  {
   "cell_type": "markdown",
   "metadata": {
    "slideshow": {
     "slide_type": "subslide"
    }
   },
   "source": [
    "<h1><center>R0Q8: Celebrities</center></h1>\n",
    "\n",
    "* Born in NYC in 1928\n",
    "* Degree in physics from the California Institute of Technology, 1949\n",
    "* Ph.D. from University of California, Berkeley in 1954\n",
    "* Worked for UNESCO in Liberia as a statistician to find out how many students were in the country's schools\n",
    "* Member of the United States National Academy of Science\n",
    "* Professor emeritus of statistics at the UC Berkeley\n",
    "* Author of the 2001 paper _Statistical Modeling: the Two Cultures_\n",
    "* Coined the term _bagging_ to describe _bootstrap aggregation_\n",
    "* Awarded the SIGKDD Data Mining and Knowledge Discovery Innovation Award\n",
    "* His best known work is considered to be _Classification and Regression Trees_\n",
    "* Was the first to publish about _Random Forests_\n",
    "\n",
    "<h3><center>Leo Breiman &rarr; <span style=\"color: red\">3</span></center></h3>"
   ]
  },
  {
   "cell_type": "markdown",
   "metadata": {
    "slideshow": {
     "slide_type": "subslide"
    }
   },
   "source": [
    "<h1><center>R0Q8: Celebrities</center></h1>\n",
    "    \n",
    "<h2>Leo Breiman</h2>\n",
    "\n",
    "![](leo_breiman.jpg)\n",
    "\n",
    "The one in the left"
   ]
  },
  {
   "cell_type": "markdown",
   "metadata": {
    "slideshow": {
     "slide_type": "subslide"
    }
   },
   "source": [
    "![](trump.jpg)"
   ]
  },
  {
   "cell_type": "markdown",
   "metadata": {
    "slideshow": {
     "slide_type": "subslide"
    }
   },
   "source": [
    "<h1><center>R0Q9: Exceptions</center></h1>\n",
    "\n",
    "In which line this code raises an exception, and which is the exception (e.g. ValueError, TypeError...)?\n",
    "\n",
    "```python\n",
    "In[1]: foo = {True, False}\n",
    "\n",
    "In[2]: foo = {a: not a for a in foo}\n",
    "In[3]: bar = foo[0]\n",
    "In[0]: foo\n",
    "{False: True, True: False}\n",
    "\n",
    "In[4]: foo = {a: foo for a in foo}\n",
    "In[5]: bar = foo[0][0]\n",
    "In[0]: foo\n",
    "{False: {False: True, True: False}, True: {False: True, True: False}}\n",
    "```"
   ]
  },
  {
   "cell_type": "markdown",
   "metadata": {
    "slideshow": {
     "slide_type": "subslide"
    }
   },
   "source": [
    "<h1><center>R0Q9: Exceptions</center></h1>\n",
    "\n",
    "In which line this code raises an exception, and which is the exception (e.g. ValueError, TypeError...)?\n",
    "\n",
    "```python\n",
    "In[6]: foo = {(a, b): foo for a in foo for b in foo}\n",
    "In[7]: bar = foo[0, 0][0][0]\n",
    "\n",
    "In[8]: foo = {(a, b): foo for a in foo.keys() for b in foo.keys()}\n",
    "In[9]: bar = foo[(0, 0), (0, 0)][0, 0][0][0]\n",
    "\n",
    "In[10]: foo = {(a, b): foo for a in foo.values() for b in foo.values()\n",
    "\n",
    "TypeError                                 Traceback (most recent call last)\n",
    "<ipython-input-49-56010e2be892> in <dictcomp>(.0)\n",
    "      9 bar = foo[(0, 0), (0, 0)][0, 0][0][0]\n",
    "\n",
    "---> 10 foo = {(a, b): foo for a in foo.values() for b in foo.values()}\n",
    "     11 bar = foo[[0, 0], [0, 0]][0, 0][0][0]\n",
    "\n",
    "TypeError: unhashable type: 'dict'\n",
    "```\n",
    "\n",
    "<h3><center>TypeError in line 10 &rarr; <span style=\"color: red\">3</span></center></h3>"
   ]
  },
  {
   "cell_type": "markdown",
   "metadata": {
    "slideshow": {
     "slide_type": "slide"
    }
   },
   "source": [
    "<h1><center>Round 1</center></h1>"
   ]
  },
  {
   "cell_type": "markdown",
   "metadata": {
    "slideshow": {
     "slide_type": "subslide"
    }
   },
   "source": [
    "<h1><center>R1Q0: What's the output?</center></h1>\n",
    "\n",
    "```python\n",
    ">>> import itertools\n",
    ">>> import random\n",
    ">>> import bisect\n",
    ">>> \n",
    ">>> candidates = [0, 99, 666, 22]\n",
    ">>> weights = [.33, .33, 99., .34]\n",
    ">>> cum_weights = itertools.accumulate(weights)\n",
    ">>> candidates[bisect.bisect(cum_weights, random.random() * cum_weights[-1])]\n",
    "```"
   ]
  },
  {
   "cell_type": "markdown",
   "metadata": {
    "slideshow": {
     "slide_type": "subslide"
    }
   },
   "source": [
    "<h1><center>R1Q1: Community</center></h1>\n",
    "\n",
    "Which of these projects is **not** a NumFOCUS fiscally sponsored project?\n",
    "\n",
    "![](numfocus_projects.png)"
   ]
  },
  {
   "cell_type": "markdown",
   "metadata": {
    "slideshow": {
     "slide_type": "subslide"
    }
   },
   "source": [
    "<h1><center>R1Q2: Which library is it?</center></h1>\n",
    "\n",
    "```python\n",
    ">>> import who_am_i as wai\n",
    ">>> import numpy as np\n",
    ">>> from sklearn.pipeline import make_pipeline\n",
    ">>> from sklearn.dummy import DummyClassifier\n",
    ">>>\n",
    ">>> X = np.array([[ 1., -1.,      2.],\n",
    "...               [ 2.,  np.nan,  0.],\n",
    "...               [ 0.,  1.,     -1.]])\n",
    ">>> y = np.array([0., 1., 0.])\n",
    ">>>\n",
    ">>> clf = make_pipeline(wai.Imputer(),\n",
    "...                     wai.StandardScaler(),\n",
    "...                     DummyClassifier())\n",
    ">>>\n",
    ">>> clf.fit(X, y)\n",
    ">>> clf.predict(np.array([[2., 0., -1.]]))\n",
    "```"
   ]
  },
  {
   "cell_type": "markdown",
   "metadata": {
    "slideshow": {
     "slide_type": "subslide"
    }
   },
   "source": [
    "<h1><center>R1Q3: Monty Python</center></h1>\n",
    "\n",
    "Which is the biggest enemy of the _People's Front of Judea_?\n",
    "\n",
    "![](peoples_front_of_judea.jpg)"
   ]
  },
  {
   "cell_type": "markdown",
   "metadata": {
    "slideshow": {
     "slide_type": "subslide"
    }
   },
   "source": [
    "<h1><center>R1Q4: Versions</center></h1>\n",
    "\n",
    "Which is the latest released version of Pandas?\n",
    "\n",
    "![](pandas.png)"
   ]
  },
  {
   "cell_type": "markdown",
   "metadata": {
    "slideshow": {
     "slide_type": "subslide"
    }
   },
   "source": [
    "<h1><center>R1Q5: Barcelona community</center></h1>\n",
    "\n",
    "Who was the founder of the Barcelona Python Meetup?\n",
    "\n",
    "![](pybcn_origin.jpeg)"
   ]
  },
  {
   "cell_type": "markdown",
   "metadata": {
    "slideshow": {
     "slide_type": "subslide"
    }
   },
   "source": [
    "<h1><center>R1Q6: Data science theory</center></h1>\n",
    "\n",
    "Given a dataset where the number of samples is much larger than the number of features, and these are continuous, which of the next models should require less parameters:\n",
    "\n",
    "* k-Nearest Neighbors\n",
    "* Logistic Regression\n",
    "* Decision Tree (assume min_samples_split close to 0)\n",
    "* Multilayer perceptron\n",
    "* Linear Support Vector Machine\n",
    "* Random Forest (assume trees are not pruned)\n",
    "* Deep Neural Network\n"
   ]
  },
  {
   "cell_type": "markdown",
   "metadata": {
    "slideshow": {
     "slide_type": "subslide"
    }
   },
   "source": [
    "<h1><center>R1Q7: Performance</center></h1>\n",
    "\n",
    "Sort them from faster to slower:\n",
    "\n",
    "```python\n",
    ">>> import random\n",
    ">>> import numpy as np\n",
    ">>>\n",
    ">>> rand_list = [random.randint(0, 2 ** 32) for i in range(1_000_000)]\n",
    ">>>\n",
    ">>> %timeit list(map(lambda x: x ** 2, rand_list))\n",
    ">>> %timeit [x ** 2 for x in rand_list]\n",
    ">>> %timeit np.array(rand_list) ** 2\n",
    "```"
   ]
  },
  {
   "cell_type": "markdown",
   "metadata": {
    "slideshow": {
     "slide_type": "subslide"
    }
   },
   "source": [
    "<h1><center>R1Q8: Celebrities</center></h1>\n",
    "\n",
    "* Born in Solingen, West Germany, in 1967\n",
    "* PhD (summa cum laude) in 1995 in computer science and statistics\n",
    "* Afterwards, he joined Carnegie Mellon University (CMU) as a research computer scientist\n",
    "* Co-director of the Robot Learning Laboratory at CMU\n",
    "* Director of the Stanford Artificial Intelligence Lab since 2004\n",
    "* His team won the DARPA Grand Challenge in 2005, making a self-driving car cross 240kms in the Mojave Desert\n",
    "* Became a Google fellow in 2011, where he co-developed Google Street View\n",
    "* Made their Stanford classes in AI available online together with Peter Norvig (www.ai-class.com)\n",
    "* Founder of Udacity, a platform for open education created in 2011"
   ]
  },
  {
   "cell_type": "markdown",
   "metadata": {
    "slideshow": {
     "slide_type": "subslide"
    }
   },
   "source": [
    "<h1><center>R1Q9: Exceptions</center></h1>\n",
    "\n",
    "In which line this code raises an exception, and which is the exception (e.g. ValueError, TypeError...)?\n",
    "\n",
    "```python\n",
    "In[1]: import pandas as pd\n",
    "\n",
    "In[2]: df = pd.DataFrame({'value': [1, 2, 3]},\n",
    "  ...:                   index=[10, 20, 30])\n",
    "\n",
    "In[3]: df.loc[[10, 20, 30]] + df.iloc[[0, 1, 2]] + df.ix[[0, 1, 2]]\n",
    "\n",
    "```"
   ]
  },
  {
   "cell_type": "markdown",
   "metadata": {
    "slideshow": {
     "slide_type": "slide"
    }
   },
   "source": [
    "<h1><center>Round 1: Answers</center></h1>"
   ]
  },
  {
   "cell_type": "markdown",
   "metadata": {
    "slideshow": {
     "slide_type": "subslide"
    }
   },
   "source": [
    "<h1><center>R1Q0: What's the output?</center></h1>\n",
    "\n",
    "```python\n",
    ">>> import itertools\n",
    ">>> import random\n",
    ">>> import bisect\n",
    ">>> \n",
    ">>> candidates = [0, 99, 666, 22]\n",
    ">>> weights = [.33, .33, 99., .34]\n",
    ">>> cum_weights = list(itertools.accumulate(weights))\n",
    ">>> cum_weights\n",
    "[0.33, 0.66, 99.66, 100.0]\n",
    ">>> random_number = random.random() * cum_weights[-1]\n",
    ">>> # uniformly distributed between 0 and 100\n",
    ">>> # 99% probability of being between 0.66 and 99.66\n",
    ">>> random_number\n",
    "58.95397201789591\n",
    ">>> index = bisect.bisect(cum_weights, random_number)\n",
    ">>> index\n",
    "2\n",
    ">>> candidates[index]\n",
    "666\n",
    "```"
   ]
  },
  {
   "cell_type": "markdown",
   "metadata": {
    "slideshow": {
     "slide_type": "subslide"
    }
   },
   "source": [
    "<h1><center>R1Q0: What's the output?</center></h1>\n",
    "\n",
    "```python\n",
    ">>> import itertools\n",
    ">>> import random\n",
    ">>> import bisect\n",
    ">>> \n",
    ">>> candidates = [0, 99, 666, 22]\n",
    ">>> weights = [.33, .33, 99., .34]\n",
    ">>> cum_weights = itertools.accumulate(weights)\n",
    ">>> candidates[bisect.bisect(cum_weights, random.random() * cum_weights[-1])]\n",
    "---------------------------------------------------------------------------\n",
    "TypeError                                 Traceback (most recent call last)\n",
    "<ipython-input-7-76cc035203d4> in <module>()\n",
    "      6 weights = [.33, .33, 99., .34]\n",
    "      7 cum_weights = itertools.accumulate(weights)\n",
    "----> 8 candidates[bisect.bisect(cum_weights, random.random() * cum_weights[-1])]\n",
    "\n",
    "TypeError: 'itertools.accumulate' object is not subscriptable\n",
    "```\n",
    "\n",
    "<h3><center>TypeError &rarr; <span style=\"color: red\">3</span></center></h3>\n",
    "<h4><center>666 with 99% probability &rarr; <span style=\"color: red\">1</span></center></h4>"
   ]
  },
  {
   "cell_type": "markdown",
   "metadata": {
    "slideshow": {
     "slide_type": "subslide"
    }
   },
   "source": [
    "<h1><center>R1Q1: PyData community</center></h1>\n",
    "\n",
    "Which of these projects is **not** a NumFOCUS fiscally sponsored project?\n",
    "\n",
    "![](numfocus_projects.png)"
   ]
  },
  {
   "cell_type": "markdown",
   "metadata": {
    "slideshow": {
     "slide_type": "subslide"
    }
   },
   "source": [
    "<h1><center>R1Q1: PyData community</center></h1>\n",
    "\n",
    "Which of these projects is **not** a NumFOCUS fiscally sponsored project?\n",
    "\n",
    "<h3><center>Gensim &rarr; <span style=\"color: red\">3</span></center></h3>\n",
    "\n",
    "![](numfocus_website.png)"
   ]
  },
  {
   "cell_type": "markdown",
   "metadata": {
    "slideshow": {
     "slide_type": "subslide"
    }
   },
   "source": [
    "<h1><center>R1Q2: Which library is it?</center></h1>\n",
    "\n",
    "```python\n",
    ">>> import who_am_i as wai\n",
    ">>> import numpy as np\n",
    ">>> from sklearn.pipeline import make_pipeline\n",
    ">>> from sklearn.dummy import DummyClassifier\n",
    ">>>\n",
    ">>> X = np.array([[ 1., -1.,      2.],\n",
    "...               [ 2.,  np.nan,  0.],\n",
    "...               [ 0.,  1.,     -1.]])\n",
    ">>> y = np.array([0., 1., 0.])\n",
    ">>>\n",
    ">>> clf = make_pipeline(wai.Imputer(),\n",
    "...                     wai.StandardScaler(),\n",
    "...                     DummyClassifier())\n",
    ">>>\n",
    ">>> clf.fit(X, y)\n",
    ">>> clf.predict(np.array([[2., 0., -1.]]))\n",
    "```\n",
    "\n",
    "<h3><center>sklearn.preprocessing &rarr; <span style=\"color: red\">1</span></center></h3>"
   ]
  },
  {
   "cell_type": "markdown",
   "metadata": {
    "slideshow": {
     "slide_type": "subslide"
    }
   },
   "source": [
    "<h1><center>R1Q2: Which library is it?</center></h1>\n",
    "\n",
    "```python\n",
    ">>> import sklearn.preprocessing\n",
    ">>> import numpy as np\n",
    ">>> from sklearn.pipeline import make_pipeline\n",
    ">>> from sklearn.dummy import DummyClassifier\n",
    ">>>\n",
    ">>> X = np.array([[ 1., -1.,      2.],\n",
    "...               [ 2.,  np.nan,  0.],\n",
    "...               [ 0.,  1.,     -1.]])\n",
    ">>> y = np.array([0., 1., 0.])\n",
    ">>>\n",
    ">>> clf = make_pipeline(sklearn.preprocessing.Imputer(),\n",
    "...                     sklearn.preprocessing.StandardScaler(),\n",
    "...                     DummyClassifier())\n",
    ">>>\n",
    ">>> clf.fit(X, y)\n",
    ">>> clf.predict(np.array([[2., 0., -1.]]))\n",
    "array([ 1.])\n",
    "```\n",
    "<h3><center>if you also knew the prediction is 1. &rarr; <span style=\"color: red\">3</span></center></h3>"
   ]
  },
  {
   "cell_type": "markdown",
   "metadata": {
    "slideshow": {
     "slide_type": "subslide"
    }
   },
   "source": [
    "<h1><center>R1Q3: Monty Python</center></h1>\n",
    "\n",
    "Which is the biggest enemy of the _People's Front of Judea_?\n",
    "\n",
    "<h3><center>The Judean People's Front &rarr; <span style=\"color: red\">3</span></center></h3>\n",
    "<h4><center>The Romans &rarr; <span style=\"color: red\">-1</span></center></h4>\n",
    "\n",
    "<iframe width=\"560\" height=\"315\" src=\"https://www.youtube.com/embed/a0BpfwazhUA\" frameborder=\"0\" allowfullscreen></iframe>"
   ]
  },
  {
   "cell_type": "markdown",
   "metadata": {
    "slideshow": {
     "slide_type": "subslide"
    }
   },
   "source": [
    "<h1><center>R1Q4: Versions</center></h1>\n",
    "\n",
    "Which is the latest released version of Pandas?\n",
    "\n",
    "<h3><center>pandas 0.20.1 &rarr; <span style=\"color: red\">3</span></center></h3>\n",
    "<h4><center>pandas 0.20 &rarr; <span style=\"color: red\">1</span></center></h4>\n",
    "\n",
    "![](pandas_020.png)"
   ]
  },
  {
   "cell_type": "markdown",
   "metadata": {
    "slideshow": {
     "slide_type": "subslide"
    }
   },
   "source": [
    "<h1><center>R1Q5: Barcelona community</center></h1>\n",
    "\n",
    "Who was the founder of the Barcelona Python Meetup?\n",
    "\n",
    "<h3><center>Maik Röder &rarr; <span style=\"color: red\">5</span></center></h3>\n",
    "\n",
    "![](maik_roder.jpg)"
   ]
  },
  {
   "cell_type": "markdown",
   "metadata": {
    "slideshow": {
     "slide_type": "subslide"
    }
   },
   "source": [
    "<h1><center>R1Q6: Data science theory</center></h1>\n",
    "\n",
    "Given a dataset where the number of samples is much larger than the number of features, which of the next models should require less parameters. The features are continuos, and there is no pattern in the features to discriminate the response variable.\n",
    "\n",
    "* k-Nearest Neighbors\n",
    "* Logistic Regression\n",
    "* Decision Tree (assume min_samples_split close to 0)\n",
    "* Multilayer perceptron (hidden units is larger than features)\n",
    "* Linear Support Vector Machine\n",
    "* Random Forest (assume trees are not pruned)\n",
    "* Deep Neural Network\n",
    "\n",
    "<h3><center>Logistic Regression and Linear Support Vector Machine &rarr; <span style=\"color: red\">3</span></center></h3>\n",
    "<h4><center>Just one of them &rarr; <span style=\"color: red\">1</span></center></h4>"
   ]
  },
  {
   "cell_type": "markdown",
   "metadata": {
    "slideshow": {
     "slide_type": "subslide"
    }
   },
   "source": [
    "<h1><center>R1Q7: Performance</center></h1>\n",
    "\n",
    "Sort them from faster to slower:\n",
    "\n",
    "```python\n",
    ">>> import random\n",
    ">>> import numpy as np\n",
    ">>>\n",
    ">>> rand_list = [random.randint(0, 2 ** 32) for i in range(1_000_000)]\n",
    ">>>\n",
    ">>> %timeit list(map(lambda x: x ** 2, rand_list))  # 589 ms ± 6.77 ms per loop (mean ± std. dev. of 7 runs, 1 loop each)\n",
    ">>> %timeit [x ** 2 for x in rand_list]  # 478 ms ± 1.32 ms per loop (mean ± std. dev. of 7 runs, 1 loop each)\n",
    ">>> %timeit np.array(rand_list) ** 2  # 117 ms ± 21.3 ms per loop (mean ± std. dev. of 7 runs, 10 loops each)\n",
    "```\n",
    "\n",
    "<h3><center>numpy &rarr; <span style=\"color: red\">3</span></center></h3>"
   ]
  },
  {
   "cell_type": "markdown",
   "metadata": {
    "slideshow": {
     "slide_type": "subslide"
    }
   },
   "source": [
    "<h1><center>R1Q8: Celebrities</center></h1>\n",
    "\n",
    "* Born in Solingen, West Germany, in 1967\n",
    "* PhD (summa cum laude) in 1995 in computer science and statistics\n",
    "* Afterwards, he joined Carnegie Mellon University (CMU) as a research computer scientist\n",
    "* Co-director of the Robot Learning Laboratory at CMU\n",
    "* Director of the Stanford Artificial Intelligence Lab since 2004\n",
    "* His team won the DARPA Grand Challenge in 2005, making a self-driving car cross 240kms in the Mojave Desert\n",
    "* Became a Google fellow in 2011, where he co-developed Google Street View\n",
    "* Made their Stanford classes in AI available online together with Peter Norvig (www.ai-class.com)\n",
    "* Founder of Udacity, a platform for open education created in 2011\n",
    "\n",
    "<h3><center>Sebastian Thrun &rarr; <span style=\"color: red\">3</span></center></h3>\n",
    "\n",
    "![](thrun.png)"
   ]
  },
  {
   "cell_type": "markdown",
   "metadata": {
    "slideshow": {
     "slide_type": "subslide"
    }
   },
   "source": [
    "<h1><center>R1Q9: Exceptions</center></h1>\n",
    "\n",
    "In which line this code raises an exception, and which is the exception (e.g. ValueError, TypeError...)?\n",
    "\n",
    "```python\n",
    "In[1]: import pandas as pd\n",
    "\n",
    "In[2]: df = pd.DataFrame({'value': [1, 2, 3]},\n",
    "  ...:                   index=[10, 20, 30])\n",
    "\n",
    "In[3]: df.loc[[10, 20, 30]] + df.iloc[[0, 1, 2]] + df.ix[[0, 1, 2]]\n",
    "\n",
    "```"
   ]
  },
  {
   "cell_type": "markdown",
   "metadata": {
    "collapsed": true,
    "slideshow": {
     "slide_type": "subslide"
    }
   },
   "source": [
    "<h1><center>R1Q9: Exceptions</center></h1>\n",
    "\n",
    "In which line this code raises an exception, and which is the exception (e.g. ValueError, TypeError...)?\n",
    "\n",
    "```python\n",
    "In[1]: import pandas as pd\n",
    "\n",
    "In[2]: df = pd.DataFrame({'value': [1, 2, 3]},\n",
    "  ...:                   index=[10, 20, 30])\n",
    "\n",
    "In[3]: df.loc[[10, 20, 30]] + df.iloc[[0, 1, 2]] + df.ix[[0, 1, 2]]\n",
    "DeprecationWarning: \n",
    ".ix is deprecated. Please use\n",
    ".loc for label based indexing or\n",
    ".iloc for positional indexing\n",
    "\n",
    "See the documentation here:\n",
    "http://pandas.pydata.org/pandas-docs/stable/indexing.html#deprecate_ix\n",
    "  #!~/.anaconda3/bin/python\n",
    "Out[3]: \n",
    "    value\n",
    "0     NaN\n",
    "1     NaN\n",
    "2     NaN\n",
    "10    NaN\n",
    "20    NaN\n",
    "30    NaN\n",
    "```\n",
    "\n",
    "\n",
    "<h3><center>No exception but DeprecationWarning &rarr; <span style=\"color: red\">3</span></center></h3>\n",
    "\n",
    "<h4><center>No exception &rarr; <span style=\"color: red\">1</span></center></h4>\n",
    "\n"
   ]
  },
  {
   "cell_type": "code",
   "execution_count": null,
   "metadata": {
    "collapsed": true
   },
   "outputs": [],
   "source": []
  }
 ],
 "metadata": {
  "celltoolbar": "Slideshow",
  "kernelspec": {
   "display_name": "Python 3",
   "language": "python",
   "name": "python3"
  },
  "language_info": {
   "codemirror_mode": {
    "name": "ipython",
    "version": 3
   },
   "file_extension": ".py",
   "mimetype": "text/x-python",
   "name": "python",
   "nbconvert_exporter": "python",
   "pygments_lexer": "ipython3",
   "version": "3.6.1"
  }
 },
 "nbformat": 4,
 "nbformat_minor": 1
}
