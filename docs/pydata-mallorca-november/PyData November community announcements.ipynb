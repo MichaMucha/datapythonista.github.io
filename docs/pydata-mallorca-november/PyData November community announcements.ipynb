{
 "cells": [
  {
   "cell_type": "markdown",
   "metadata": {
    "slideshow": {
     "slide_type": "slide"
    }
   },
   "source": [
    "![](PyDataLogo_Mallorca.png)"
   ]
  },
  {
   "cell_type": "markdown",
   "metadata": {
    "slideshow": {
     "slide_type": "slide"
    }
   },
   "source": [
    "# Community announcements"
   ]
  },
  {
   "cell_type": "markdown",
   "metadata": {
    "slideshow": {
     "slide_type": "slide"
    }
   },
   "source": [
    "In the Python community:\n",
    "\n",
    "### Python 3.6 final beta released yesterday\n",
    "\n",
    "Main new features:\n",
    "* Dict orderng is kept\n",
    " * {'1st': 1, '2nd': 2, '3rd': 3}\n",
    "* Also class attribute ordering\n",
    "* Asynchronous comprehensions\n",
    " * [i async for i in aiter() if i % 2]\n",
    "* Literal string interpolation\n",
    " * f'This will print {some_active_variable} without format or %'\n",
    "* Underscores in numeric literals\n",
    " * 1_000_000 ** 2"
   ]
  },
  {
   "cell_type": "markdown",
   "metadata": {
    "slideshow": {
     "slide_type": "slide"
    }
   },
   "source": [
    "Coming in December...\n",
    "\n",
    "![](python_data_science_handbook.jpg)\n",
    "\n",
    "Some of the notebooks already available: https://github.com/jakevdp/PythonDataScienceHandbook"
   ]
  },
  {
   "cell_type": "markdown",
   "metadata": {
    "slideshow": {
     "slide_type": "slide"
    }
   },
   "source": [
    "![](numfocus_sponsored.png)\n",
    "\n",
    "**NumFOCUS** welcomes new projects:\n",
    "* **PyMC3**: Probabilistic modeling\n",
    "* **Fenics**: Partial differential equations\n",
    "\n",
    "**IBM** joined NumFOCUS as a Platinum Corporate Sponsor\n",
    "\n",
    "Got some spare change? Support NumFOCUS projects: http://www.numfocus.org/support-numfocus.html"
   ]
  },
  {
   "cell_type": "markdown",
   "metadata": {
    "slideshow": {
     "slide_type": "slide"
    }
   },
   "source": [
    "![](meetups_map.png)\n",
    "\n",
    "New meetup groups:\n",
    "* Instanbul\n",
    "* Tel Aviv\n",
    "* L'Aquila (Italy)\n",
    "* Belo Horizonte (Brazil)\n",
    "* Sal Luis (Argentina)"
   ]
  },
  {
   "cell_type": "markdown",
   "metadata": {
    "slideshow": {
     "slide_type": "slide"
    }
   },
   "source": [
    "Recent conferences:\n",
    "* PyData DC (Videos: https://www.youtube.com/playlist?list=PLGVZCDnMOq0qLoYpkeySVtfdbQg1A_GiB)\n",
    "* ODSC London (Videos: https://www.opendatascience.com/uk-2016-videos-1/)\n",
    "* Big Data Spain\n",
    "\n",
    "PyData Cologne was canceled because of a fire in the venue\n",
    "\n",
    "No more PyData events this year (we had 11 in 2016)"
   ]
  },
  {
   "cell_type": "markdown",
   "metadata": {
    "slideshow": {
     "slide_type": "slide"
    }
   },
   "source": [
    "Our community in **Mallorca**\n",
    "\n",
    "* 155 members\n",
    "* 2 new organizers\n",
    "* 1 tweet about #PyDataMallorca last month\n",
    " * Author will receive a gift from NumFOCUS\n",
    "* 4 talk proposals\n",
    " * **we need more speaker**\n",
    " * Speakers will also receive a gift\n",
    "* 13 feedback surveys:\n",
    " * Speakers introductions\n",
    " * Favorite day for the event is Wednesday\n",
    " * Longer lightning talks (8 minutes)\n",
    " * 25% of attendees made a business connection\n",
    " * Vegetarian pizzas and water\n",
    "* PyData December will be in la UIB"
   ]
  },
  {
   "cell_type": "markdown",
   "metadata": {
    "slideshow": {
     "slide_type": "slide"
    }
   },
   "source": [
    "**Now is your turn to speak**\n",
    "\n",
    "Tell us about:\n",
    "* What **topics** would you like to learn about at PyData Mallorca\n",
    "* An **event** you attended or you are attending\n",
    "* An **open source** project you just discovered or you are contributing to\n",
    "* What your **company** is doing in terms of data science or big data\n",
    "* **Anything else**"
   ]
  },
  {
   "cell_type": "markdown",
   "metadata": {
    "slideshow": {
     "slide_type": "slide"
    }
   },
   "source": [
    "Don't forget to thank our sponsor\n",
    "\n",
    "![](hundredrooms.jpg)"
   ]
  }
 ],
 "metadata": {
  "celltoolbar": "Slideshow",
  "kernelspec": {
   "display_name": "Python 3",
   "language": "python",
   "name": "python3"
  },
  "language_info": {
   "codemirror_mode": {
    "name": "ipython",
    "version": 3
   },
   "file_extension": ".py",
   "mimetype": "text/x-python",
   "name": "python",
   "nbconvert_exporter": "python",
   "pygments_lexer": "ipython3",
   "version": "3.5.2"
  }
 },
 "nbformat": 4,
 "nbformat_minor": 0
}
